{
 "cells": [
  {
   "cell_type": "markdown",
   "id": "366914ba",
   "metadata": {},
   "source": [
    "# Day 0 – Setup and Refresh\n",
    "- Environment configured ✅\n",
    "- GitHub repo created ✅\n",
    "- ML concepts warming up 🔥\n",
    "\n"
   ]
  }
 ],
 "metadata": {
  "language_info": {
   "name": "python"
  }
 },
 "nbformat": 4,
 "nbformat_minor": 5
}
